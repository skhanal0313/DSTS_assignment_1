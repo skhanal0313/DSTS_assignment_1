{
 "cells": [
  {
   "cell_type": "code",
   "execution_count": 33,
   "metadata": {},
   "outputs": [],
   "source": [
    "%reset -f"
   ]
  },
  {
   "cell_type": "code",
   "execution_count": 34,
   "metadata": {},
   "outputs": [],
   "source": [
    "#Calling all the required libraries:\n",
    "import pandas as pd\n",
    "import numpy as np\n",
    "from sklearn.model_selection import train_test_split\n",
    "from sklearn.linear_model import LinearRegression, SGDRegressor\n",
    "from sklearn.metrics import mean_squared_error\n",
    "from sklearn.preprocessing import LabelEncoder\n",
    "from collections import Counter\n",
    "import pickle"
   ]
  },
  {
   "cell_type": "code",
   "execution_count": 35,
   "metadata": {},
   "outputs": [],
   "source": [
    "#Loading the dataset:\n",
    "zomato_data_nw = pd.read_csv(\"./data/zomato_df_final_data.csv\")"
   ]
  },
  {
   "cell_type": "code",
   "execution_count": 36,
   "metadata": {},
   "outputs": [
    {
     "name": "stdout",
     "output_type": "stream",
     "text": [
      "address             0\n",
      "cost              346\n",
      "cuisine             0\n",
      "lat               192\n",
      "link                0\n",
      "lng               192\n",
      "phone               0\n",
      "rating_number    3316\n",
      "rating_text      3316\n",
      "subzone             0\n",
      "title               0\n",
      "type               48\n",
      "votes            3316\n",
      "groupon             0\n",
      "color               0\n",
      "cost_2            346\n",
      "cuisine_color       0\n",
      "dtype: int64\n"
     ]
    }
   ],
   "source": [
    "# Checking for total NA values in the dataset\n",
    "total_na_count = zomato_data_nw.isna().sum()\n",
    "\n",
    "# Displaying the total NA values for each column\n",
    "print(total_na_count)"
   ]
  },
  {
   "cell_type": "code",
   "execution_count": 37,
   "metadata": {},
   "outputs": [
    {
     "name": "stdout",
     "output_type": "stream",
     "text": [
      "address          0\n",
      "cost             0\n",
      "cuisine          0\n",
      "lat              0\n",
      "link             0\n",
      "lng              0\n",
      "phone            0\n",
      "rating_number    0\n",
      "rating_text      0\n",
      "subzone          0\n",
      "title            0\n",
      "type             0\n",
      "votes            0\n",
      "groupon          0\n",
      "color            0\n",
      "cost_2           0\n",
      "cuisine_color    0\n",
      "dtype: int64\n"
     ]
    }
   ],
   "source": [
    "# Checking for any empty cells (cells with empty strings) in the dataset\n",
    "empty_cell = (zomato_data_nw == '').sum()\n",
    "\n",
    "# Displaying the total empty cells for each column\n",
    "print(empty_cell)"
   ]
  },
  {
   "cell_type": "code",
   "execution_count": 38,
   "metadata": {},
   "outputs": [
    {
     "name": "stdout",
     "output_type": "stream",
     "text": [
      "Columns with missing values:\n",
      "lat     112\n",
      "lng     112\n",
      "type     20\n",
      "dtype: int64\n"
     ]
    }
   ],
   "source": [
    "# Since we will be making \"rating_number as our target variable, lets remove the rows having NA or Null values for rating number.\n",
    "\n",
    "# Removing the rows where 'rating_number' has NA or NaN values\n",
    "zomato_new_cleaned = zomato_data_nw.dropna(subset=['rating_number', 'cost'])\n",
    "\n",
    "# Rechecking the number of NA or NaN values in each column\n",
    "na_count_nw = zomato_new_cleaned.isna().sum()\n",
    "\n",
    "na_columns = na_count_nw[na_count_nw > 0]\n",
    "print(\"Columns with missing values:\")\n",
    "print(na_columns)"
   ]
  },
  {
   "cell_type": "code",
   "execution_count": 39,
   "metadata": {},
   "outputs": [
    {
     "name": "stderr",
     "output_type": "stream",
     "text": [
      "/var/folders/4t/5nz_d09553v4_cz4n9zxh9zh0000gn/T/ipykernel_8559/2511191916.py:2: SettingWithCopyWarning: \n",
      "A value is trying to be set on a copy of a slice from a DataFrame.\n",
      "Try using .loc[row_indexer,col_indexer] = value instead\n",
      "\n",
      "See the caveats in the documentation: https://pandas.pydata.org/pandas-docs/stable/user_guide/indexing.html#returning-a-view-versus-a-copy\n",
      "  zomato_new_cleaned.loc[:, 'suburb'] = zomato_new_cleaned['subzone'].apply(lambda x: x.split(',')[-1].strip())\n"
     ]
    }
   ],
   "source": [
    "# Adding a new column 'suburb' that extracts only the suburb names in the 'subzone' column\n",
    "zomato_new_cleaned.loc[:, 'suburb'] = zomato_new_cleaned['subzone'].apply(lambda x: x.split(',')[-1].strip())"
   ]
  },
  {
   "cell_type": "code",
   "execution_count": 40,
   "metadata": {},
   "outputs": [
    {
     "name": "stdout",
     "output_type": "stream",
     "text": [
      "Top correlated features with 'rating_number':\n",
      "rating_number    1.000000\n",
      "votes            0.535391\n",
      "cost             0.231050\n",
      "cost_2           0.231050\n",
      "lng              0.011488\n",
      "lat             -0.010093\n",
      "Name: rating_number, dtype: float64\n"
     ]
    }
   ],
   "source": [
    "# Selecting only numerical columns\n",
    "numerical_columns = zomato_new_cleaned.select_dtypes(include=['float64', 'int64'])\n",
    "\n",
    "# Calculating correlation between 'rating_number' and other numerical columns\n",
    "correlation = numerical_columns.corr()['rating_number'].sort_values(ascending=False)\n",
    "\n",
    "print(\"Top correlated features with 'rating_number':\")\n",
    "print(correlation)"
   ]
  },
  {
   "cell_type": "code",
   "execution_count": 41,
   "metadata": {},
   "outputs": [
    {
     "name": "stdout",
     "output_type": "stream",
     "text": [
      "address           object\n",
      "cost             float64\n",
      "cuisine           object\n",
      "lat              float64\n",
      "link              object\n",
      "lng              float64\n",
      "phone             object\n",
      "rating_number    float64\n",
      "rating_text       object\n",
      "subzone           object\n",
      "title             object\n",
      "type              object\n",
      "votes            float64\n",
      "groupon             bool\n",
      "color             object\n",
      "cost_2           float64\n",
      "cuisine_color     object\n",
      "suburb            object\n",
      "dtype: object\n"
     ]
    }
   ],
   "source": [
    "# Checking the data types of each column\n",
    "column_types = zomato_new_cleaned.dtypes\n",
    "print(column_types)"
   ]
  },
  {
   "cell_type": "markdown",
   "metadata": {},
   "source": [
    "#### Label/Feature Encoding:"
   ]
  },
  {
   "cell_type": "markdown",
   "metadata": {},
   "source": [
    "#### Lets convert the non numeric columns using Label encoder to find out the correlation for all features."
   ]
  },
  {
   "cell_type": "code",
   "execution_count": 42,
   "metadata": {},
   "outputs": [
    {
     "name": "stdout",
     "output_type": "stream",
     "text": [
      "rating_number    1.000000\n",
      "rating_text      0.629375\n",
      "votes            0.535391\n",
      "cost             0.231050\n",
      "cost_2           0.231050\n",
      "cuisine          0.025424\n",
      "suburb           0.021929\n",
      "lng              0.011488\n",
      "subzone         -0.003308\n",
      "groupon         -0.003444\n",
      "lat             -0.010093\n",
      "link            -0.015453\n",
      "title           -0.018337\n",
      "type            -0.046360\n",
      "cuisine_color   -0.082713\n",
      "address         -0.089345\n",
      "phone           -0.091412\n",
      "color           -1.000000\n",
      "Name: rating_number, dtype: float64\n"
     ]
    }
   ],
   "source": [
    "# Using Label Encoding for non-numeric columns\n",
    "from sklearn.preprocessing import LabelEncoder\n",
    "\n",
    "# Selecting only the non-numeric columns\n",
    "non_numeric_columns = zomato_new_cleaned.select_dtypes(include=['object']).columns\n",
    "\n",
    "# Initializing LabelEncoder\n",
    "lebel_encoder = LabelEncoder()\n",
    "\n",
    "# Creating a copy of the dataframe to avoid modifying the original one\n",
    "zomato_encoded = zomato_new_cleaned.copy()\n",
    "\n",
    "# Applying Label Encoding for non-numeric columns\n",
    "for col in non_numeric_columns:\n",
    "    zomato_encoded[col] = zomato_encoded[col].apply(lambda x: ', '.join(x) if isinstance(x, list) else x)\n",
    "    zomato_encoded[col] = lebel_encoder.fit_transform(zomato_encoded[col].astype(str))\n",
    "\n",
    "# Calculating the correlation matrix\n",
    "correlation = zomato_encoded.corr()['rating_number'].sort_values(ascending=False)\n",
    "\n",
    "print(correlation)\n"
   ]
  },
  {
   "cell_type": "markdown",
   "metadata": {},
   "source": [
    "#### From the output we can see, features having high correlation are: \"rating_number\", \"rating_text\", \"votes \", \"cost\", \"cost_2\", \"cuisine\" and \"suburb\". Also, the \"rating_text is same as the \"rating_number\", we have to exclude this during modelling. So we will be considering only the remaining highly correlated features for our modeling."
   ]
  },
  {
   "cell_type": "code",
   "execution_count": 43,
   "metadata": {},
   "outputs": [
    {
     "data": {
      "text/plain": [
       "(0.16701766881520794, 0.17579263773803885)"
      ]
     },
     "execution_count": 43,
     "metadata": {},
     "output_type": "execute_result"
    }
   ],
   "source": [
    "from sklearn.impute import SimpleImputer\n",
    "from sklearn.model_selection import train_test_split\n",
    "from sklearn.linear_model import LinearRegression\n",
    "from sklearn.metrics import mean_squared_error\n",
    "from sklearn.preprocessing import StandardScaler\n",
    "from sklearn.linear_model import SGDRegressor\n",
    "\n",
    "# Selecting only the specified features that determine our target variable.\n",
    "selected_features = ['votes', 'cost', 'cost_2', 'cuisine', 'suburb']\n",
    "\n",
    "# Preparing data with the selected features\n",
    "X = zomato_encoded[selected_features]  # Use selected features\n",
    "y = zomato_encoded['rating_number']\n",
    "\n",
    "# Handling missing values if any, by filling with median of each column\n",
    "imputer = SimpleImputer(strategy='median')\n",
    "X_imputed = imputer.fit_transform(X)\n",
    "\n",
    "# Spliting the data into training (80%) and testing (20%) sets\n",
    "X_train, X_test, y_train, y_test = train_test_split(X_imputed, y, test_size=0.2, random_state=0)\n",
    "\n",
    "# Standardizing the features\n",
    "scaler = StandardScaler()\n",
    "X_train_scaled = scaler.fit_transform(X_train)\n",
    "X_test_scaled = scaler.transform(X_test)\n",
    "\n",
    "# Model 1: Linear Regression\n",
    "linear_model_1 = LinearRegression()\n",
    "linear_model_1.fit(X_train_scaled, y_train)\n",
    "\n",
    "# Predicting and calculating MSE for model 1\n",
    "y_pred_1 = linear_model_1.predict(X_test_scaled)\n",
    "mse_model_1 = mean_squared_error(y_test, y_pred_1)\n",
    "\n",
    "# Model 2: Linear Regression with Gradient Descent (SGDRegressor)\n",
    "linear_model_2 = SGDRegressor(max_iter=1000, tol=1e-3, random_state=0)\n",
    "linear_model_2.fit(X_train_scaled, y_train)\n",
    "\n",
    "# Predicting and calculating MSE for model 2\n",
    "y_pred_2 = linear_model_2.predict(X_test_scaled)\n",
    "mse_model_2 = mean_squared_error(y_test, y_pred_2)\n",
    "\n",
    "mse_model_1, mse_model_2"
   ]
  },
  {
   "cell_type": "code",
   "execution_count": 44,
   "metadata": {},
   "outputs": [
    {
     "name": "stdout",
     "output_type": "stream",
     "text": [
      "rmse for linear model 1:  0.40867795244569766\n",
      "r-squared for linear model 1:  0.21889054776244088\n",
      "rmse for linear model 2:  0.4192763262313278\n",
      "r-squared for linear model 2:  0.17785170907347725\n"
     ]
    }
   ],
   "source": [
    "# Lets calculate r-squared and rmse for futher analysis and insight about model accuracy.\n",
    "\n",
    "from sklearn.metrics import r2_score\n",
    "import numpy as np\n",
    "\n",
    "# Linear Regression\n",
    "linear_model_1 = LinearRegression()\n",
    "linear_model_1.fit(X_train_scaled, y_train)\n",
    "\n",
    "# Predicting and calculating MSE for model 1\n",
    "y_pred_1 = linear_model_1.predict(X_test_scaled)\n",
    "rmse_model_1 = np.sqrt(mse_model_1)  # Calculate RMSE\n",
    "r2_model_1 = r2_score(y_test, y_pred_1)  # Calculate R-squared\n",
    "\n",
    "# Linear Regression with Gradient Descent (SGDRegressor)\n",
    "linear_model_2 = SGDRegressor(max_iter=1000, tol=1e-3, random_state=0)\n",
    "linear_model_2.fit(X_train_scaled, y_train)\n",
    "\n",
    "# Predicting and calculating MSE for model 2\n",
    "y_pred_2 = linear_model_2.predict(X_test_scaled)\n",
    "rmse_model_2 = np.sqrt(mse_model_2)  # Calculate RMSE\n",
    "r2_model_2 = r2_score(y_test, y_pred_2)  # Calculate R-squared\n",
    "\n",
    "#Display the results:\n",
    "print(\"rmse for linear model 1: \", rmse_model_1)\n",
    "print(\"r-squared for linear model 1: \", r2_model_1)\n",
    "\n",
    "print(\"rmse for linear model 2: \", rmse_model_2)\n",
    "print(\"r-squared for linear model 2: \", r2_model_2)\n"
   ]
  },
  {
   "cell_type": "markdown",
   "metadata": {},
   "source": [
    "##### From the output we can see, MSE for model 1 is approx. 0.167 and MSE for model 2 is approx. 0.176.\n",
    "##### Both models gave good predictive accuracy with low MSE values ((0.167 vs. 0.176)). And, the minimal difference between the results of two models suggests that the dataset and the selected features are good enough for linear modeling."
   ]
  },
  {
   "cell_type": "markdown",
   "metadata": {},
   "source": [
    "### III 7. Build a logistic regression model (model_classification_3) for the simplified data, with 80% training data and 20% test data."
   ]
  },
  {
   "cell_type": "code",
   "execution_count": 45,
   "metadata": {},
   "outputs": [
    {
     "name": "stdout",
     "output_type": "stream",
     "text": [
      "Confusion Matrix:\n",
      " [[862  79]\n",
      " [155 321]]\n",
      "Classification Report:\n",
      "               precision    recall  f1-score   support\n",
      "\n",
      "           1       0.85      0.92      0.88       941\n",
      "           2       0.80      0.67      0.73       476\n",
      "\n",
      "    accuracy                           0.83      1417\n",
      "   macro avg       0.83      0.80      0.81      1417\n",
      "weighted avg       0.83      0.83      0.83      1417\n",
      "\n"
     ]
    }
   ],
   "source": [
    "import pandas as pd\n",
    "from sklearn.model_selection import train_test_split\n",
    "from sklearn.linear_model import LogisticRegression\n",
    "from sklearn.metrics import confusion_matrix, classification_report\n",
    "\n",
    "# Binary Classes: ***Class 1: 'Poor' and 'Average'*** and, *** Class 2: 'Good', 'Very Good', 'Excellent' ***\n",
    "\n",
    "#Creating a copy\n",
    "zomato_binary = zomato_new_cleaned.copy()\n",
    "\n",
    "#Performing the binary classification\n",
    "zomato_binary['rating_class'] = zomato_binary['rating_text'].map({\n",
    "    'Poor': 1,\n",
    "    'Average': 1,\n",
    "    'Good': 2,\n",
    "    'Very Good': 2,\n",
    "    'Excellent': 2\n",
    "})\n",
    "\n",
    "# Using Label Encoding for non-numeric columns\n",
    "from sklearn.preprocessing import LabelEncoder\n",
    "\n",
    "# Initializing LabelEncoder\n",
    "lebel_encoder = LabelEncoder()\n",
    "\n",
    "# Creating a copy of the dataframe\n",
    "zomato_binary_encoded = zomato_binary.copy()\n",
    "\n",
    "# Applying Label Encoding for non-numeric columns\n",
    "for col in non_numeric_columns:\n",
    "    zomato_binary_encoded[col] = zomato_binary_encoded[col].apply(lambda x: ', '.join(x) if isinstance(x, list) else x)\n",
    "    zomato_binary_encoded[col] = lebel_encoder.fit_transform(zomato_binary_encoded[col].astype(str))\n",
    "\n",
    "# Selecting only the most relevant features\n",
    "selected_features = ['votes', 'cost', 'cost_2', 'cuisine', 'suburb']\n",
    "\n",
    "# Preparing data with the selected features\n",
    "X = zomato_binary_encoded[selected_features]  # Use selected features\n",
    "y = zomato_binary_encoded['rating_class']\n",
    "\n",
    "# Spliting the dataset into training - 80% and testing - 20% sets\n",
    "X_train, X_test, y_train, y_test = train_test_split(X, y, test_size=0.2, random_state=0)\n",
    "\n",
    "# Building the Logistic Regression Model\n",
    "logistic_model = LogisticRegression(max_iter=1000)\n",
    "logistic_model.fit(X_train, y_train)\n",
    "\n",
    "# Predictions\n",
    "y_pred = logistic_model.predict(X_test)\n",
    "\n",
    "# Confusion Matrix\n",
    "conf_matrix = confusion_matrix(y_test, y_pred)\n",
    "print(\"Confusion Matrix:\\n\", conf_matrix)\n",
    "\n",
    "# Classification Report\n",
    "class_report = classification_report(y_test, y_pred)\n",
    "print(\"Classification Report:\\n\", class_report)\n"
   ]
  },
  {
   "cell_type": "markdown",
   "metadata": {},
   "source": [
    "### III 8. Use the confusion matrix to report the results of using the classification model on the test data."
   ]
  },
  {
   "cell_type": "code",
   "execution_count": 46,
   "metadata": {},
   "outputs": [
    {
     "name": "stdout",
     "output_type": "stream",
     "text": [
      "Confusion Matrix:\n",
      " [[862  79]\n",
      " [155 321]]\n"
     ]
    },
    {
     "data": {
      "image/png": "[encoded data removed]",
      "text/plain": [
       "<Figure size 600x400 with 1 Axes>"
      ]
     },
     "metadata": {},
     "output_type": "display_data"
    }
   ],
   "source": [
    "import matplotlib.pyplot as plt\n",
    "import seaborn as sns\n",
    "from sklearn.metrics import confusion_matrix\n",
    "\n",
    "# Displaying the Confusion Matrix for Logistic Regression\n",
    "conf_matrix = confusion_matrix(y_test, y_pred)\n",
    "print(\"Confusion Matrix:\\n\", conf_matrix)\n",
    "\n",
    "# Plotting the confusion matrix\n",
    "plt.figure(figsize=(6, 4))\n",
    "sns.heatmap(conf_matrix, annot=True, fmt=\"d\", cmap=\"Blues\", cbar=False, \n",
    "            xticklabels=['Class 1', 'Class 2'], yticklabels=['Class 1', 'Class 2'])\n",
    "plt.title(\"Confusion Matrix\")\n",
    "plt.ylabel(\"Actual\")\n",
    "plt.xlabel(\"Predicted\")\n",
    "plt.show()"
   ]
  },
  {
   "cell_type": "markdown",
   "metadata": {},
   "source": [
    "### III 9. Draw your conclusions and observations about the performance of the model relevant to the classes’ distributions.\n"
   ]
  },
  {
   "cell_type": "markdown",
   "metadata": {},
   "source": [
    "#### From the Confusion Matrix we can understand the following;\n",
    "#### Class 1 (Ratings: Poor/Average): True Positives: 862 (predicted correctly as Class 1), False Positive: 79 (predicted incorrectly as Class 1 but are actually Class 2).\n",
    "#### Class 2 (Ratings: Good/Very Good/Excellent): True Negatives: 321 (predicted correctly as Class 2), False Negatives: 155 (predicted incorrectly as Class 2 but are actually Class 1).\n",
    "#### This signifies that our model perfermes well in predicting the Class 1 ratings, whereas it is not very effective for predicting the Class 2 ratings. \n",
    "#### This imbalance is may be due the difference in sample size of class 1 ratings(941) and class 2 ratings(476)."
   ]
  },
  {
   "cell_type": "markdown",
   "metadata": {},
   "source": [
    "#### Also, from the classification report, we can understand the following;\n",
    "#### Class 1: Precision: 85% , Recall: 92% ; Successfully predicted and identified Class 1 samples.\n",
    "#### Class 2: Precision: 80% , Recall: 67% ; The model only correctly identified 67% of actual Class 2 samples, so it is missing 33% of these cases.\n",
    "#### So, the conclusion, that we have drawn earlier, from the Confusion matrix, is backed up by this as well."
   ]
  },
  {
   "cell_type": "markdown",
   "metadata": {},
   "source": [
    "### III 10. Repeat the previous classification task using three other models of your choice and report the performance."
   ]
  },
  {
   "cell_type": "code",
   "execution_count": 47,
   "metadata": {},
   "outputs": [
    {
     "name": "stdout",
     "output_type": "stream",
     "text": [
      "Random Forest Classifier Performance\n",
      "Confusion Matrix:\n",
      " [[818 123]\n",
      " [ 93 383]]\n",
      "Classification Report:\n",
      "               precision    recall  f1-score   support\n",
      "\n",
      "           1       0.90      0.87      0.88       941\n",
      "           2       0.76      0.80      0.78       476\n",
      "\n",
      "    accuracy                           0.85      1417\n",
      "   macro avg       0.83      0.84      0.83      1417\n",
      "weighted avg       0.85      0.85      0.85      1417\n",
      "\n",
      "\n",
      "Support Vector Classifier Performance\n",
      "Confusion Matrix:\n",
      " [[863  78]\n",
      " [153 323]]\n",
      "Classification Report:\n",
      "               precision    recall  f1-score   support\n",
      "\n",
      "           1       0.85      0.92      0.88       941\n",
      "           2       0.81      0.68      0.74       476\n",
      "\n",
      "    accuracy                           0.84      1417\n",
      "   macro avg       0.83      0.80      0.81      1417\n",
      "weighted avg       0.83      0.84      0.83      1417\n",
      "\n",
      "\n",
      "K-Nearest Neighbors Performance\n",
      "Confusion Matrix:\n",
      " [[824 117]\n",
      " [110 366]]\n",
      "Classification Report:\n",
      "               precision    recall  f1-score   support\n",
      "\n",
      "           1       0.88      0.88      0.88       941\n",
      "           2       0.76      0.77      0.76       476\n",
      "\n",
      "    accuracy                           0.84      1417\n",
      "   macro avg       0.82      0.82      0.82      1417\n",
      "weighted avg       0.84      0.84      0.84      1417\n",
      "\n"
     ]
    }
   ],
   "source": [
    "import pandas as pd\n",
    "from sklearn.model_selection import train_test_split\n",
    "from sklearn.ensemble import RandomForestClassifier\n",
    "from sklearn.svm import SVC\n",
    "from sklearn.neighbors import KNeighborsClassifier\n",
    "from sklearn.metrics import confusion_matrix, classification_report\n",
    "\n",
    "# Selecting only the most relevant features\n",
    "selected_features = ['votes', 'cost', 'cost_2', 'cuisine', 'suburb']\n",
    "\n",
    "# Preparing data with the selected features\n",
    "X = zomato_binary_encoded[selected_features]  # Use selected features\n",
    "y = zomato_binary_encoded['rating_class']\n",
    "\n",
    "# Spliting the dataset into training (80%) and testing (20%) sets\n",
    "X_train, X_test, y_train, y_test = train_test_split(X, y, test_size=0.2, random_state=0)\n",
    "\n",
    "# Model 1: Random Forest Classifier\n",
    "randomforest_model = RandomForestClassifier(random_state=0)\n",
    "randomforest_model.fit(X_train, y_train)\n",
    "\n",
    "# Model 2: Support Vector Classifier (SVC)\n",
    "svc_model = SVC(random_state=0)\n",
    "svc_model.fit(X_train, y_train)\n",
    "\n",
    "# Model 3: K-Nearest Neighbors (KNN)\n",
    "knn_model = KNeighborsClassifier()\n",
    "knn_model.fit(X_train, y_train)\n",
    "\n",
    "# Predictions for each model\n",
    "y_pred_randomforest = randomforest_model.predict(X_test)\n",
    "y_pred_svc = svc_model.predict(X_test)\n",
    "y_pred_knn = knn_model.predict(X_test)\n",
    "\n",
    "# Evaluation of Random Forest Classifier\n",
    "print(\"Random Forest Classifier Performance\")\n",
    "print(\"Confusion Matrix:\\n\", confusion_matrix(y_test, y_pred_randomforest))\n",
    "print(\"Classification Report:\\n\", classification_report(y_test, y_pred_randomforest))\n",
    "\n",
    "# Evaluation of Support Vector Classifier (SVC)\n",
    "print(\"\\nSupport Vector Classifier Performance\")\n",
    "print(\"Confusion Matrix:\\n\", confusion_matrix(y_test, y_pred_svc))\n",
    "print(\"Classification Report:\\n\", classification_report(y_test, y_pred_svc))\n",
    "\n",
    "# Evaluation of K-Nearest Neighbors (KNN)\n",
    "print(\"\\nK-Nearest Neighbors Performance\")\n",
    "print(\"Confusion Matrix:\\n\", confusion_matrix(y_test, y_pred_knn))\n",
    "print(\"Classification Report:\\n\", classification_report(y_test, y_pred_knn))\n"
   ]
  },
  {
   "cell_type": "code",
   "execution_count": 48,
   "metadata": {},
   "outputs": [
    {
     "data": {
      "image/png": "[encoded data removed]",
      "text/plain": [
       "<Figure size 400x200 with 1 Axes>"
      ]
     },
     "metadata": {},
     "output_type": "display_data"
    },
    {
     "data": {
      "image/png": "[encoded data removed]",
      "text/plain": [
       "<Figure size 400x200 with 1 Axes>"
      ]
     },
     "metadata": {},
     "output_type": "display_data"
    },
    {
     "data": {
      "image/png": "[encoded data removed]",
      "text/plain": [
       "<Figure size 400x200 with 1 Axes>"
      ]
     },
     "metadata": {},
     "output_type": "display_data"
    }
   ],
   "source": [
    "#Plotting the confusion matrix for visualisation:\n",
    "\n",
    "# Plotting function for confusion matrices\n",
    "def plot_confusion_matrix(model_name, y_test, y_pred):\n",
    "    conf_matrix = confusion_matrix(y_test, y_pred)\n",
    "    plt.figure(figsize=(4, 2))\n",
    "    sns.heatmap(conf_matrix, annot=True, fmt=\"d\", cmap=\"Blues\", cbar=False, \n",
    "                xticklabels=['Class 1', 'Class 2'], yticklabels=['Class 1', 'Class 2'])\n",
    "    plt.title(f\"{model_name} Confusion Matrix\")\n",
    "    plt.ylabel(\"Actual\")\n",
    "    plt.xlabel(\"Predicted\")\n",
    "    plt.show()\n",
    "\n",
    "# Plot confusion matrix for Random Forest Classifier\n",
    "plot_confusion_matrix(\"Random Forest Classifier\", y_test, y_pred_randomforest)\n",
    "\n",
    "# Plot confusion matrix for Support Vector Classifier (SVC)\n",
    "plot_confusion_matrix(\"Support Vector Classifier\", y_test, y_pred_svc)\n",
    "\n",
    "# Plot confusion matrix for K-Nearest Neighbors (KNN)\n",
    "plot_confusion_matrix(\"K-Nearest Neighbors\", y_test, y_pred_knn)\n"
   ]
  },
  {
   "cell_type": "markdown",
   "metadata": {},
   "source": [
    "#### Conclusions:\n",
    "#### Best Model for Class 1 (Poor/Average): SVC showed best performance in identifying Class 1, with the highest recallof 92%, which suggests, it correctly identifies more low-rated restaurants than the other models. In other hand, Random Forest and KNN shows strong performance for Class 1, evenly balancing the precision and recall.\n",
    "#### Best Model for Class 2 (Good/Very Good/Excellent): Random Forest showed best performance for Class 2, with a recall of 92% and precision of 72% , suggesting better balance between true positives and false negatives for high-rated restaurants. Additionally, KNN also provides balanced performance for Class 2, with a recall of 77%.\n",
    "#### Overall Best Model: Random Forest had the best overall performance with the highest accuracy of 85%, balancing both classes, and had good F1-score. Having the best combination of precision and recall, it can be considered better choice for this classification problem. Furthermore, SVC gave strong results for precision for Class 1, but had lower recall for Class 2, suggesting bias in correctly predicting low-rated restaurants while struggling with higher-rated ones. And, KNN provided balanced results, but slightly lower performance compared to Random Forest.\n",
    "#### In conclusion, Random Forest seemed to be the most suitable model in tgis case of binary classification task, which offered the best balance between precision and recall, particularly for Class 2, making it effective for detecting high-rated restaurants as well.\n"
   ]
  }
 ],
 "metadata": {
  "kernelspec": {
   "display_name": "myenv",
   "language": "python",
   "name": "python3"
  },
  "language_info": {
   "codemirror_mode": {
    "name": "ipython",
    "version": 3
   },
   "file_extension": ".py",
   "mimetype": "text/x-python",
   "name": "python",
   "nbconvert_exporter": "python",
   "pygments_lexer": "ipython3",
   "version": "3.11.9"
  }
 },
 "nbformat": 4,
 "nbformat_minor": 2
}
